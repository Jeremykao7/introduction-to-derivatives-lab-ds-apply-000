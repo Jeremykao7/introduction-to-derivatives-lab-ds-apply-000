{
 "cells": [
  {
   "cell_type": "markdown",
   "metadata": {},
   "source": [
    "# Derivatives of Linear Functions Lab"
   ]
  },
  {
   "cell_type": "markdown",
   "metadata": {},
   "source": [
    "### Introduction: Start here\n",
    "\n",
    "In this lab, we will practice our knowledge of derivatives. Remember that our key formula for derivatives, is \n",
    "$f'(x) = \\frac{\\Delta y}{\\Delta x} =  \\frac{f(x + \\Delta x) - f(x)}{\\Delta x}$.  So in driving towards this formula, we will do the following: \n",
    "\n",
    "1. Learn how to represent linear and nonlinear functions in code.  \n",
    "2. Then because our calculation of a derivative relies on seeing the output at an initial value and the output at that value plus delta x, we need an `output_at` function.  \n",
    "3. Then we will be able to code the $\\Delta f$ function that sees the change in output between the initial x and that initial x plus the $\\Delta x$ \n",
    "4. Finally, we will calculate the derivative at a given x value, `derivative_at`. \n",
    "\n",
    "### Learning objectives \n",
    "\n",
    "For this first section, you should be able to answer all of the question with an understanding of our definition of a derivative:\n",
    "\n",
    "1. Our intuitive explanation that a derivative is the instantaneous rate of change of a function\n",
    "2. Our mathematical definition is that \n",
    "\n",
    "$f'(x) = \\frac{\\Delta y}{\\Delta x} =  \\frac{f(x + \\Delta x) - f(x)}{\\Delta x}$"
   ]
  },
  {
   "cell_type": "markdown",
   "metadata": {},
   "source": [
    "### Let's begin: Starting with functions"
   ]
  },
  {
   "cell_type": "markdown",
   "metadata": {},
   "source": [
    "#### 1. Representing Functions"
   ]
  },
  {
   "cell_type": "markdown",
   "metadata": {},
   "source": [
    "We are about to learn to take the derivative of a function in code.  But before doing so, we need to learn how to express any kind of function in code.  This way when we finally write our functions for calculating the derivative, we can use them with both linear and nonlinear functions.\n",
    "\n",
    "For example, we want to write the function $f(x) = 2x^2 + 4x - 10 $ in a way that allows us to easily determine the exponent of each term.\n",
    "\n",
    "This is our technique: write the formula as a list of tuples.  \n",
    "\n",
    "> A tuple is a list whose elements cannot be reassigned.  But everything else, for our purposes, is the same.  \n",
    "```python\n",
    "tuple = (7, 3)\n",
    "tuple[0] # 7\n",
    "tuple[1] # 3\n",
    "```\n",
    "\n",
    "> We get a TyperError if we try to reassign the tuple's elements.\n",
    "```python\n",
    "tuple[0] = 7\n",
    "# TypeError: 'tuple' object does not support item assignment\n",
    "```\n",
    "\n",
    "Take the following function as an example: \n",
    "\n",
    "$$f(x) = 4x^2 + 4x - 10 $$"
   ]
  },
  {
   "cell_type": "markdown",
   "metadata": {},
   "source": [
    "Here it is as a list of tuples:"
   ]
  },
  {
   "cell_type": "code",
   "execution_count": 2,
   "metadata": {},
   "outputs": [],
   "source": [
    "four_x_squared_plus_four_x_minus_ten = [(4, 2), (4, 1), (-10, 0)]"
   ]
  },
  {
   "cell_type": "markdown",
   "metadata": {},
   "source": [
    "So each tuple in the list represents a different term in the function.  The first element of the tuple is the term's constant and the second element of the tuple is the term's exponent.  Thus $4x^2$ translates to `(4, 2)` and  $-10$ translates to `(-10, 0)` because $-10$ is the same as $-10*x^0$.  \n",
    "> We'll refer to this list of tuples as \"list of terms\", or `list_of_terms`."
   ]
  },
  {
   "cell_type": "markdown",
   "metadata": {},
   "source": [
    "Ok, so give this a shot. Write $ f(x) = 4x^3 + 11x^2 $ as a list of terms.  Assign it to the variable `four_x_cubed_plus_eleven_x_squared`."
   ]
  },
  {
   "cell_type": "code",
   "execution_count": 3,
   "metadata": {},
   "outputs": [],
   "source": [
    "four_x_cubed_plus_eleven_x_squared = [(4, 3), (11, 2)]"
   ]
  },
  {
   "cell_type": "markdown",
   "metadata": {},
   "source": [
    "#### 2. Evaluating a function at a specific point "
   ]
  },
  {
   "cell_type": "markdown",
   "metadata": {},
   "source": [
    "Now that we can represent a function in code, let's write a Python function called `term_output` that can evaluate what a single term equals at a value of $x$.  \n",
    "\n",
    "* For example, when $x = 2$, the term $3x^2 = 3*2^2 = 12 $.  \n",
    "* So we represent $3x^2$ in code as `(3, 2)`, and: \n",
    "* `term_output((3, 2), 2)` should return 12\n"
   ]
  },
  {
   "cell_type": "code",
   "execution_count": 4,
   "metadata": {},
   "outputs": [],
   "source": [
    "def term_output(term, input_value):\n",
    "    return term[0] * input_value ** term[1]\n"
   ]
  },
  {
   "cell_type": "code",
   "execution_count": 5,
   "metadata": {},
   "outputs": [
    {
     "data": {
      "text/plain": [
       "12"
      ]
     },
     "execution_count": 5,
     "metadata": {},
     "output_type": "execute_result"
    }
   ],
   "source": [
    "term_output((3, 2), 2) # 12"
   ]
  },
  {
   "cell_type": "markdown",
   "metadata": {},
   "source": [
    "> **Hint:** To raise a number to an exponent in python, like 3^2 use the double star, as in:\n",
    "```python\n",
    "3**2 # 9 \n",
    "```"
   ]
  },
  {
   "cell_type": "markdown",
   "metadata": {},
   "source": [
    "Now write a function called `output_at`, when passed a `list_of_terms` and a value of $x$, calculates the value of the function at that value.  \n",
    "> * For example, we'll use `output_at` to calculate $f(x) = 3x^2 - 11$.  \n",
    "> * Then `output_at([(3, 2), (-11, 0)], 2)` should return $f(2) = 3*2^2 - 11 = 1$"
   ]
  },
  {
   "cell_type": "code",
   "execution_count": 6,
   "metadata": {},
   "outputs": [],
   "source": [
    "def output_at(list_of_terms, x_value):\n",
    "    outputs = list(map(lambda term : term_output(term, x_value), list_of_terms))\n",
    "    return sum(outputs)\n",
    "#or\n",
    "\n",
    "def output_at(list_of_terms, x_value):\n",
    "    outputs = 0\n",
    "    for term in list_of_terms:\n",
    "        outputs += term_output(term, x_value)\n",
    "    return outputs\n",
    "        "
   ]
  },
  {
   "cell_type": "code",
   "execution_count": 7,
   "metadata": {},
   "outputs": [
    {
     "data": {
      "text/plain": [
       "16"
      ]
     },
     "execution_count": 7,
     "metadata": {},
     "output_type": "execute_result"
    }
   ],
   "source": [
    "three_x_squared_minus_eleven = [(3, 2), (-11, 0)]\n",
    "output_at(three_x_squared_minus_eleven, 2) # 1 \n",
    "output_at(three_x_squared_minus_eleven, 3) # 16"
   ]
  },
  {
   "cell_type": "markdown",
   "metadata": {},
   "source": [
    "Now we can use our `output_at` function to display our function graphically.  We simply declare a list of `x_values` and then calculate `output_at` for each of the `x_values`."
   ]
  },
  {
   "cell_type": "code",
   "execution_count": 8,
   "metadata": {
    "scrolled": false
   },
   "outputs": [
    {
     "data": {
      "text/html": [
       "<script>requirejs.config({paths: { 'plotly': ['https://cdn.plot.ly/plotly-latest.min']},});if(!window.Plotly) {{require(['plotly'],function(plotly) {window.Plotly=plotly;});}}</script>"
      ],
      "text/vnd.plotly.v1+html": [
       "<script>requirejs.config({paths: { 'plotly': ['https://cdn.plot.ly/plotly-latest.min']},});if(!window.Plotly) {{require(['plotly'],function(plotly) {window.Plotly=plotly;});}}</script>"
      ]
     },
     "metadata": {},
     "output_type": "display_data"
    },
    {
     "data": {
      "application/vnd.plotly.v1+json": {
       "data": [
        {
         "mode": "markers",
         "name": "data",
         "text": [],
         "type": "scatter",
         "uid": "0c9a5bb2-c9d8-11e8-8f92-0242ac110060",
         "x": [
          -30,
          -29,
          -28,
          -27,
          -26,
          -25,
          -24,
          -23,
          -22,
          -21,
          -20,
          -19,
          -18,
          -17,
          -16,
          -15,
          -14,
          -13,
          -12,
          -11,
          -10,
          -9,
          -8,
          -7,
          -6,
          -5,
          -4,
          -3,
          -2,
          -1,
          0,
          1,
          2,
          3,
          4,
          5,
          6,
          7,
          8,
          9,
          10,
          11,
          12,
          13,
          14,
          15,
          16,
          17,
          18,
          19,
          20,
          21,
          22,
          23,
          24,
          25,
          26,
          27,
          28,
          29
         ],
         "y": [
          2689,
          2512,
          2341,
          2176,
          2017,
          1864,
          1717,
          1576,
          1441,
          1312,
          1189,
          1072,
          961,
          856,
          757,
          664,
          577,
          496,
          421,
          352,
          289,
          232,
          181,
          136,
          97,
          64,
          37,
          16,
          1,
          -8,
          -11,
          -8,
          1,
          16,
          37,
          64,
          97,
          136,
          181,
          232,
          289,
          352,
          421,
          496,
          577,
          664,
          757,
          856,
          961,
          1072,
          1189,
          1312,
          1441,
          1576,
          1717,
          1864,
          2017,
          2176,
          2341,
          2512
         ]
        }
       ],
       "layout": {
        "title": "3x^2 - 11"
       }
      },
      "text/html": [
       "<div id=\"979a75bc-2ba8-4405-92dc-366c17f38242\" style=\"height: 525px; width: 100%;\" class=\"plotly-graph-div\"></div><script type=\"text/javascript\">require([\"plotly\"], function(Plotly) { window.PLOTLYENV=window.PLOTLYENV || {};window.PLOTLYENV.BASE_URL=\"https://plot.ly\";Plotly.newPlot(\"979a75bc-2ba8-4405-92dc-366c17f38242\", [{\"mode\": \"markers\", \"name\": \"data\", \"text\": [], \"x\": [-30, -29, -28, -27, -26, -25, -24, -23, -22, -21, -20, -19, -18, -17, -16, -15, -14, -13, -12, -11, -10, -9, -8, -7, -6, -5, -4, -3, -2, -1, 0, 1, 2, 3, 4, 5, 6, 7, 8, 9, 10, 11, 12, 13, 14, 15, 16, 17, 18, 19, 20, 21, 22, 23, 24, 25, 26, 27, 28, 29], \"y\": [2689, 2512, 2341, 2176, 2017, 1864, 1717, 1576, 1441, 1312, 1189, 1072, 961, 856, 757, 664, 577, 496, 421, 352, 289, 232, 181, 136, 97, 64, 37, 16, 1, -8, -11, -8, 1, 16, 37, 64, 97, 136, 181, 232, 289, 352, 421, 496, 577, 664, 757, 856, 961, 1072, 1189, 1312, 1441, 1576, 1717, 1864, 2017, 2176, 2341, 2512], \"type\": \"scatter\", \"uid\": \"0ccdaa1c-c9d8-11e8-8f92-0242ac110060\"}], {\"title\": \"3x^2 - 11\"}, {\"showLink\": true, \"linkText\": \"Export to plot.ly\"})});</script>"
      ],
      "text/vnd.plotly.v1+html": [
       "<div id=\"979a75bc-2ba8-4405-92dc-366c17f38242\" style=\"height: 525px; width: 100%;\" class=\"plotly-graph-div\"></div><script type=\"text/javascript\">require([\"plotly\"], function(Plotly) { window.PLOTLYENV=window.PLOTLYENV || {};window.PLOTLYENV.BASE_URL=\"https://plot.ly\";Plotly.newPlot(\"979a75bc-2ba8-4405-92dc-366c17f38242\", [{\"mode\": \"markers\", \"name\": \"data\", \"text\": [], \"x\": [-30, -29, -28, -27, -26, -25, -24, -23, -22, -21, -20, -19, -18, -17, -16, -15, -14, -13, -12, -11, -10, -9, -8, -7, -6, -5, -4, -3, -2, -1, 0, 1, 2, 3, 4, 5, 6, 7, 8, 9, 10, 11, 12, 13, 14, 15, 16, 17, 18, 19, 20, 21, 22, 23, 24, 25, 26, 27, 28, 29], \"y\": [2689, 2512, 2341, 2176, 2017, 1864, 1717, 1576, 1441, 1312, 1189, 1072, 961, 856, 757, 664, 577, 496, 421, 352, 289, 232, 181, 136, 97, 64, 37, 16, 1, -8, -11, -8, 1, 16, 37, 64, 97, 136, 181, 232, 289, 352, 421, 496, 577, 664, 757, 856, 961, 1072, 1189, 1312, 1441, 1576, 1717, 1864, 2017, 2176, 2341, 2512], \"type\": \"scatter\", \"uid\": \"0ccdaa1c-c9d8-11e8-8f92-0242ac110060\"}], {\"title\": \"3x^2 - 11\"}, {\"showLink\": true, \"linkText\": \"Export to plot.ly\"})});</script>"
      ]
     },
     "metadata": {},
     "output_type": "display_data"
    }
   ],
   "source": [
    "import plotly\n",
    "from plotly.offline import iplot, init_notebook_mode\n",
    "init_notebook_mode(connected=True)\n",
    "\n",
    "from graph import plot, trace_values\n",
    "\n",
    "x_values = list(range(-30, 30, 1))\n",
    "y_values = list(map(lambda x: output_at(three_x_squared_minus_eleven, x),x_values))\n",
    "\n",
    "y_values = []\n",
    "for x in x_values:\n",
    "    val = output_at(three_x_squared_minus_eleven, x)\n",
    "    y_values.append(val)\n",
    "\n",
    "\n",
    "three_x_squared_minus_eleven_trace  = trace_values(x_values, y_values, mode = 'markers')\n",
    "plot([three_x_squared_minus_eleven_trace], {'title': '3x^2 - 11'})"
   ]
  },
  {
   "cell_type": "markdown",
   "metadata": {},
   "source": [
    "### Moving to derivatives of linear functions"
   ]
  },
  {
   "cell_type": "markdown",
   "metadata": {},
   "source": [
    "Let's start with a function, $f(x) = 4x + 15$.  We represent the function as the following:"
   ]
  },
  {
   "cell_type": "code",
   "execution_count": 10,
   "metadata": {},
   "outputs": [],
   "source": [
    "four_x_plus_fifteen = [(4, 1), (15, 0)]"
   ]
  },
  {
   "cell_type": "markdown",
   "metadata": {},
   "source": [
    "We can plot the function by calculating outputs at a range of x values.  Note that we use our `output_at` function to calculate the output at each individual x value."
   ]
  },
  {
   "cell_type": "code",
   "execution_count": 11,
   "metadata": {},
   "outputs": [
    {
     "data": {
      "text/html": [
       "<script>requirejs.config({paths: { 'plotly': ['https://cdn.plot.ly/plotly-latest.min']},});if(!window.Plotly) {{require(['plotly'],function(plotly) {window.Plotly=plotly;});}}</script>"
      ],
      "text/vnd.plotly.v1+html": [
       "<script>requirejs.config({paths: { 'plotly': ['https://cdn.plot.ly/plotly-latest.min']},});if(!window.Plotly) {{require(['plotly'],function(plotly) {window.Plotly=plotly;});}}</script>"
      ]
     },
     "metadata": {},
     "output_type": "display_data"
    },
    {
     "data": {
      "application/vnd.plotly.v1+json": {
       "data": [
        {
         "mode": "lines",
         "name": "data",
         "text": [],
         "type": "scatter",
         "uid": "f112c61c-c9d8-11e8-8f92-0242ac110060",
         "x": [
          0,
          1,
          2,
          3,
          4,
          5
         ],
         "y": [
          15,
          19,
          23,
          27,
          31,
          35
         ]
        }
       ],
       "layout": {}
      },
      "text/html": [
       "<div id=\"17728d21-565a-4839-9028-c9014a54ffcb\" style=\"height: 525px; width: 100%;\" class=\"plotly-graph-div\"></div><script type=\"text/javascript\">require([\"plotly\"], function(Plotly) { window.PLOTLYENV=window.PLOTLYENV || {};window.PLOTLYENV.BASE_URL=\"https://plot.ly\";Plotly.newPlot(\"17728d21-565a-4839-9028-c9014a54ffcb\", [{\"mode\": \"lines\", \"name\": \"data\", \"text\": [], \"x\": [0, 1, 2, 3, 4, 5], \"y\": [15, 19, 23, 27, 31, 35], \"type\": \"scatter\", \"uid\": \"f116d180-c9d8-11e8-8f92-0242ac110060\"}], {}, {\"showLink\": true, \"linkText\": \"Export to plot.ly\"})});</script>"
      ],
      "text/vnd.plotly.v1+html": [
       "<div id=\"17728d21-565a-4839-9028-c9014a54ffcb\" style=\"height: 525px; width: 100%;\" class=\"plotly-graph-div\"></div><script type=\"text/javascript\">require([\"plotly\"], function(Plotly) { window.PLOTLYENV=window.PLOTLYENV || {};window.PLOTLYENV.BASE_URL=\"https://plot.ly\";Plotly.newPlot(\"17728d21-565a-4839-9028-c9014a54ffcb\", [{\"mode\": \"lines\", \"name\": \"data\", \"text\": [], \"x\": [0, 1, 2, 3, 4, 5], \"y\": [15, 19, 23, 27, 31, 35], \"type\": \"scatter\", \"uid\": \"f116d180-c9d8-11e8-8f92-0242ac110060\"}], {}, {\"showLink\": true, \"linkText\": \"Export to plot.ly\"})});</script>"
      ]
     },
     "metadata": {},
     "output_type": "display_data"
    }
   ],
   "source": [
    "import plotly\n",
    "from plotly.offline import iplot, init_notebook_mode\n",
    "init_notebook_mode(connected=True)\n",
    "\n",
    "from graph import plot, trace_values, build_layout\n",
    "\n",
    "x_values = list(range(0, 6))\n",
    "# layout = build_layout(y_axis = {'range': [0, 35]})\n",
    "\n",
    "\n",
    "four_x_plus_fifteen_values = list(map(lambda x: output_at(four_x_plus_fifteen, x),x_values))\n",
    "four_x_plus_fifteen_trace = trace_values(x_values, four_x_plus_fifteen_values, mode = 'lines')\n",
    "plot([four_x_plus_fifteen_trace])"
   ]
  },
  {
   "cell_type": "markdown",
   "metadata": {},
   "source": [
    "Ok, time for what we are here for, derivatives.  Remember that the derivative is the instantaneous rate of change of a function, and is expressed as:\n",
    "\n",
    "$$ f'(x) = \\frac{\\Delta f}{\\Delta x}  = \\frac{f(x + \\Delta x) - f(x)}{\\Delta x}  $$ "
   ]
  },
  {
   "cell_type": "markdown",
   "metadata": {},
   "source": [
    "#### Writing a function for $\\Delta f$"
   ]
  },
  {
   "cell_type": "markdown",
   "metadata": {},
   "source": [
    "We can see from the formula above that  $\\Delta f = f(x + \\Delta x ) - f(x) $.  Write a function called `delta_f` that, given a `list_of_terms`, an `x_value`, and a value $\\Delta x $, returns the change in the output over that period.\n",
    "> **Hint** Don't forget about the `output_at` function.  The `output_at` function takes a list of terms and an $x$ value and returns the corresponding output.  So really **`output_at` is equivalent to $f(x)$**, provided a function and a value of x."
   ]
  },
  {
   "cell_type": "code",
   "execution_count": 40,
   "metadata": {},
   "outputs": [],
   "source": [
    "four_x_plus_fifteen = [(4, 1), (15, 0)]"
   ]
  },
  {
   "cell_type": "code",
   "execution_count": 41,
   "metadata": {},
   "outputs": [],
   "source": [
    "def f(list_of_terms, x_value):\n",
    "    return output_at(list_of_terms, x_value)\n",
    "\n",
    "\n",
    "def delta_f(list_of_terms, x_value, delta_x):\n",
    "    return f(list_of_terms, x_value + delta_x) - f(list_of_terms, x_value)"
   ]
  },
  {
   "cell_type": "code",
   "execution_count": 42,
   "metadata": {},
   "outputs": [
    {
     "data": {
      "text/plain": [
       "4"
      ]
     },
     "execution_count": 42,
     "metadata": {},
     "output_type": "execute_result"
    }
   ],
   "source": [
    "delta_f(four_x_plus_fifteen, 2, 1) # 4"
   ]
  },
  {
   "cell_type": "markdown",
   "metadata": {},
   "source": [
    "So for $f(x) = 4x + 15$, when x = 2, and $\\Delta x = 1$, $\\Delta f$ is 4.  \n",
    "\n",
    "#### Plotting our function, delta f, and delta x  \n",
    "\n",
    "Let's show $\\Delta f$ and $\\Delta x$ graphically."
   ]
  },
  {
   "cell_type": "code",
   "execution_count": 94,
   "metadata": {},
   "outputs": [],
   "source": [
    "def delta_f_trace(list_of_terms, x_value, delta_x):\n",
    "    initial_f_value = output_at(list_of_terms, x_value)\n",
    "    delta_f_value = delta_f(list_of_terms, x_value, delta_x)\n",
    "    if initial_f_value and delta_f_value:\n",
    "        trace =  trace_values(x_values=[x_value + delta_x, x_value + delta_x], \n",
    "                              y_values=[initial_f_value, initial_f_value + delta_f_value], mode = 'lines',\n",
    "                              name = 'delta f = ' + str(delta_x))\n",
    "        return trace"
   ]
  },
  {
   "cell_type": "code",
   "execution_count": 95,
   "metadata": {},
   "outputs": [],
   "source": [
    "trace_delta_f_four_x_plus_fifteen = delta_f_trace(four_x_plus_fifteen, 2, 1)"
   ]
  },
  {
   "cell_type": "markdown",
   "metadata": {},
   "source": [
    "Let's add another function that shows the delta x."
   ]
  },
  {
   "cell_type": "code",
   "execution_count": 96,
   "metadata": {},
   "outputs": [],
   "source": [
    "def delta_x_trace(list_of_terms, x_value, delta_x):\n",
    "    initial_f_value = output_at(list_of_terms, x_value)\n",
    "    if initial_f_value:\n",
    "        trace = trace_values(x_values=[x_value, x_value + delta_x],\n",
    "                            y_values=[initial_f_value, initial_f_value], mode = 'lines', \n",
    "                            name = 'delta x = ' + str(delta_x))\n",
    "        return trace"
   ]
  },
  {
   "cell_type": "code",
   "execution_count": 93,
   "metadata": {},
   "outputs": [
    {
     "data": {
      "text/html": [
       "<script>requirejs.config({paths: { 'plotly': ['https://cdn.plot.ly/plotly-latest.min']},});if(!window.Plotly) {{require(['plotly'],function(plotly) {window.Plotly=plotly;});}}</script>"
      ],
      "text/vnd.plotly.v1+html": [
       "<script>requirejs.config({paths: { 'plotly': ['https://cdn.plot.ly/plotly-latest.min']},});if(!window.Plotly) {{require(['plotly'],function(plotly) {window.Plotly=plotly;});}}</script>"
      ]
     },
     "metadata": {},
     "output_type": "display_data"
    },
    {
     "data": {
      "application/vnd.plotly.v1+json": {
       "data": [
        {
         "mode": "lines",
         "name": "data",
         "text": [],
         "type": "scatter",
         "uid": "a6496042-c9d2-11e8-968e-0242ac110004",
         "x": [
          0,
          1,
          2,
          3,
          4,
          5
         ],
         "y": [
          15,
          19,
          23,
          27,
          31,
          35
         ]
        },
        {
         "mode": "lines",
         "name": "delta f = 1",
         "text": [],
         "type": "scatter",
         "uid": "a6496bbe-c9d2-11e8-968e-0242ac110004",
         "x": [
          3,
          3
         ],
         "y": [
          23,
          27
         ]
        },
        {
         "mode": "lines",
         "name": "delta x = 1",
         "text": [],
         "type": "scatter",
         "uid": "a6496d26-c9d2-11e8-968e-0242ac110004",
         "x": [
          2,
          3
         ],
         "y": [
          23,
          23
         ]
        }
       ],
       "layout": {
        "title": "4x + 15"
       }
      },
      "text/html": [
       "<div id=\"02625461-87bb-4c76-a712-56d31359c25f\" style=\"height: 525px; width: 100%;\" class=\"plotly-graph-div\"></div><script type=\"text/javascript\">require([\"plotly\"], function(Plotly) { window.PLOTLYENV=window.PLOTLYENV || {};window.PLOTLYENV.BASE_URL=\"https://plot.ly\";Plotly.newPlot(\"02625461-87bb-4c76-a712-56d31359c25f\", [{\"mode\": \"lines\", \"name\": \"data\", \"text\": [], \"x\": [0, 1, 2, 3, 4, 5], \"y\": [15, 19, 23, 27, 31, 35], \"type\": \"scatter\", \"uid\": \"a657199e-c9d2-11e8-968e-0242ac110004\"}, {\"mode\": \"lines\", \"name\": \"delta f = 1\", \"text\": [], \"x\": [3, 3], \"y\": [23, 27], \"type\": \"scatter\", \"uid\": \"a6571c00-c9d2-11e8-968e-0242ac110004\"}, {\"mode\": \"lines\", \"name\": \"delta x = 1\", \"text\": [], \"x\": [2, 3], \"y\": [23, 23], \"type\": \"scatter\", \"uid\": \"a6571d5e-c9d2-11e8-968e-0242ac110004\"}], {\"title\": \"4x + 15\"}, {\"showLink\": true, \"linkText\": \"Export to plot.ly\"})});</script>"
      ],
      "text/vnd.plotly.v1+html": [
       "<div id=\"02625461-87bb-4c76-a712-56d31359c25f\" style=\"height: 525px; width: 100%;\" class=\"plotly-graph-div\"></div><script type=\"text/javascript\">require([\"plotly\"], function(Plotly) { window.PLOTLYENV=window.PLOTLYENV || {};window.PLOTLYENV.BASE_URL=\"https://plot.ly\";Plotly.newPlot(\"02625461-87bb-4c76-a712-56d31359c25f\", [{\"mode\": \"lines\", \"name\": \"data\", \"text\": [], \"x\": [0, 1, 2, 3, 4, 5], \"y\": [15, 19, 23, 27, 31, 35], \"type\": \"scatter\", \"uid\": \"a657199e-c9d2-11e8-968e-0242ac110004\"}, {\"mode\": \"lines\", \"name\": \"delta f = 1\", \"text\": [], \"x\": [3, 3], \"y\": [23, 27], \"type\": \"scatter\", \"uid\": \"a6571c00-c9d2-11e8-968e-0242ac110004\"}, {\"mode\": \"lines\", \"name\": \"delta x = 1\", \"text\": [], \"x\": [2, 3], \"y\": [23, 23], \"type\": \"scatter\", \"uid\": \"a6571d5e-c9d2-11e8-968e-0242ac110004\"}], {\"title\": \"4x + 15\"}, {\"showLink\": true, \"linkText\": \"Export to plot.ly\"})});</script>"
      ]
     },
     "metadata": {},
     "output_type": "display_data"
    }
   ],
   "source": [
    "import plotly\n",
    "from plotly.offline import iplot, init_notebook_mode\n",
    "init_notebook_mode(connected=True)\n",
    "\n",
    "from graph import plot, trace_values, build_layout\n",
    "\n",
    "trace_delta_x_four_x_plus_fifteen = delta_x_trace(four_x_plus_fifteen, 2, 1)\n",
    "if four_x_plus_fifteen_trace and trace_delta_f_four_x_plus_fifteen and trace_delta_x_four_x_plus_fifteen:\n",
    "    plot([four_x_plus_fifteen_trace, trace_delta_f_four_x_plus_fifteen, trace_delta_x_four_x_plus_fifteen], {'title': '4x + 15'})"
   ]
  },
  {
   "cell_type": "markdown",
   "metadata": {},
   "source": [
    "#### Calculating the derivative"
   ]
  },
  {
   "cell_type": "markdown",
   "metadata": {},
   "source": [
    "Write a function, `derivative_at` that calculates $\\frac{\\Delta f}{\\Delta x}$ when given a `list_of_terms`, an `x_value` for the value of $(x)$ the derivative is evaluated at, and `delta_x`, which represents $\\Delta x$.  \n",
    "\n",
    "Let's try this for $f(x) = 4x + 15 $.  Round the result to three decimal places."
   ]
  },
  {
   "cell_type": "code",
   "execution_count": 97,
   "metadata": {},
   "outputs": [],
   "source": [
    "def derivative_of(list_of_terms, x_value, delta_x):\n",
    "    return delta_f(list_of_terms, x_value, delta_x) / delta_x"
   ]
  },
  {
   "cell_type": "code",
   "execution_count": 98,
   "metadata": {},
   "outputs": [
    {
     "data": {
      "text/plain": [
       "4.0"
      ]
     },
     "execution_count": 98,
     "metadata": {},
     "output_type": "execute_result"
    }
   ],
   "source": [
    "derivative_of(four_x_plus_fifteen, 3, 2) # 4.0"
   ]
  },
  {
   "cell_type": "markdown",
   "metadata": {},
   "source": [
    "### We do: Building more plots"
   ]
  },
  {
   "cell_type": "markdown",
   "metadata": {},
   "source": [
    "Ok, now that we have written a Python function that allows us to plot our list of terms, we can write a function that called `derivative_trace` that shows the rate of change, or slope, for the function between initial x and initial x plus delta x. We'll walk you through this one.  "
   ]
  },
  {
   "cell_type": "code",
   "execution_count": 99,
   "metadata": {},
   "outputs": [],
   "source": [
    "def derivative_trace(list_of_terms, x_value, line_length = 4, delta_x = .01):\n",
    "    derivative_at = derivative_of(list_of_terms, x_value, delta_x)\n",
    "    y = output_at(list_of_terms, x_value)\n",
    "    if derivative_at and y:\n",
    "        x_minus = x_value - line_length/2\n",
    "        x_plus = x_value + line_length/2\n",
    "        y_minus = y - derivative_at * line_length/2\n",
    "        y_plus = y + derivative_at * line_length/2\n",
    "        return trace_values([x_minus, x_value, x_plus],[y_minus, y, y_plus], name = \"f' (x) = \" + str(derivative_at), mode = 'lines')"
   ]
  },
  {
   "cell_type": "markdown",
   "metadata": {},
   "source": [
    "> Our `derivative_trace` function takes as arguments `list_of_terms`, `x_value`, which is where our line should be tangent to our function, `line_length` as the length of our tangent line, and `delta_x` which is our $\\Delta x$.\n",
    "\n",
    "> The return value of `derivative_trace` is a dictionary that represents tangent line at that values of $x$.  It uses the `derivative_of` function you wrote above to calculate the slope of the tangent line.  Once the slope of the tangent is calculated, we stretch out this tangent line by the `line_length` provided.  The beginning x value is just the midpoint minus the `line_length/2` and the ending $x$ value is midpoint plus the `line_length/2`.  Then we calculate our $y$ endpoints by starting at the $y$ along the function, and having them ending at `line_length/2*slope` in either direction. "
   ]
  },
  {
   "cell_type": "code",
   "execution_count": 100,
   "metadata": {},
   "outputs": [
    {
     "data": {
      "text/plain": [
       "{'x': [0.0, 2, 4.0],\n",
       " 'y': [15.00000000000017, 23, 30.99999999999983],\n",
       " 'mode': 'lines',\n",
       " 'name': \"f' (x) = 3.9999999999999147\",\n",
       " 'text': []}"
      ]
     },
     "execution_count": 100,
     "metadata": {},
     "output_type": "execute_result"
    }
   ],
   "source": [
    "tangent_line_four_x_plus_fifteen = derivative_trace(four_x_plus_fifteen, 2, line_length = 4, delta_x = .01)\n",
    "tangent_line_four_x_plus_fifteen"
   ]
  },
  {
   "cell_type": "markdown",
   "metadata": {},
   "source": [
    "Now we provide a function that simply returns all three of these traces."
   ]
  },
  {
   "cell_type": "code",
   "execution_count": 101,
   "metadata": {},
   "outputs": [],
   "source": [
    "def delta_traces(list_of_terms, x_value, line_length = 4, delta_x = .01):\n",
    "    tangent = derivative_trace(list_of_terms, x_value, line_length, delta_x)\n",
    "    delta_f_line = delta_f_trace(list_of_terms, x_value, delta_x)\n",
    "    delta_x_line = delta_x_trace(list_of_terms, x_value, delta_x)\n",
    "    return [tangent, delta_f_line, delta_x_line]"
   ]
  },
  {
   "cell_type": "markdown",
   "metadata": {},
   "source": [
    "Below we can plot our trace of the function as well "
   ]
  },
  {
   "cell_type": "code",
   "execution_count": 112,
   "metadata": {},
   "outputs": [
    {
     "data": {
      "application/vnd.plotly.v1+json": {
       "data": [
        {
         "mode": "lines",
         "name": "data",
         "text": [],
         "type": "scatter",
         "uid": "d8efb5f8-c9d4-11e8-968e-0242ac110004",
         "x": [
          0,
          1,
          2,
          3,
          4,
          5
         ],
         "y": [
          15,
          19,
          23,
          27,
          31,
          35
         ]
        },
        {
         "mode": "lines",
         "name": "f' (x) = 4.0",
         "text": [],
         "type": "scatter",
         "uid": "d8efbfee-c9d4-11e8-968e-0242ac110004",
         "x": [
          1,
          2,
          3
         ],
         "y": [
          19,
          23,
          27
         ]
        },
        {
         "mode": "lines",
         "name": "delta f = 1",
         "text": [],
         "type": "scatter",
         "uid": "d8efc264-c9d4-11e8-968e-0242ac110004",
         "x": [
          3,
          3
         ],
         "y": [
          23,
          27
         ]
        },
        {
         "mode": "lines",
         "name": "delta x = 1",
         "text": [],
         "type": "scatter",
         "uid": "d8efc48a-c9d4-11e8-968e-0242ac110004",
         "x": [
          2,
          3
         ],
         "y": [
          23,
          23
         ]
        }
       ],
       "layout": {}
      },
      "text/html": [
       "<div id=\"7d957133-588b-437e-9e49-20209c9120f8\" style=\"height: 525px; width: 100%;\" class=\"plotly-graph-div\"></div><script type=\"text/javascript\">require([\"plotly\"], function(Plotly) { window.PLOTLYENV=window.PLOTLYENV || {};window.PLOTLYENV.BASE_URL=\"https://plot.ly\";Plotly.newPlot(\"7d957133-588b-437e-9e49-20209c9120f8\", [{\"mode\": \"lines\", \"name\": \"data\", \"text\": [], \"x\": [0, 1, 2, 3, 4, 5], \"y\": [15, 19, 23, 27, 31, 35], \"type\": \"scatter\", \"uid\": \"d8fa13e0-c9d4-11e8-968e-0242ac110004\"}, {\"mode\": \"lines\", \"name\": \"f' (x) = 4.0\", \"text\": [], \"x\": [1.0, 2, 3.0], \"y\": [19.0, 23, 27.0], \"type\": \"scatter\", \"uid\": \"d8fa164c-c9d4-11e8-968e-0242ac110004\"}, {\"mode\": \"lines\", \"name\": \"delta f = 1\", \"text\": [], \"x\": [3, 3], \"y\": [23, 27], \"type\": \"scatter\", \"uid\": \"d8fa17b4-c9d4-11e8-968e-0242ac110004\"}, {\"mode\": \"lines\", \"name\": \"delta x = 1\", \"text\": [], \"x\": [2, 3], \"y\": [23, 23], \"type\": \"scatter\", \"uid\": \"d8fa18f4-c9d4-11e8-968e-0242ac110004\"}], {}, {\"showLink\": true, \"linkText\": \"Export to plot.ly\"})});</script>"
      ],
      "text/vnd.plotly.v1+html": [
       "<div id=\"7d957133-588b-437e-9e49-20209c9120f8\" style=\"height: 525px; width: 100%;\" class=\"plotly-graph-div\"></div><script type=\"text/javascript\">require([\"plotly\"], function(Plotly) { window.PLOTLYENV=window.PLOTLYENV || {};window.PLOTLYENV.BASE_URL=\"https://plot.ly\";Plotly.newPlot(\"7d957133-588b-437e-9e49-20209c9120f8\", [{\"mode\": \"lines\", \"name\": \"data\", \"text\": [], \"x\": [0, 1, 2, 3, 4, 5], \"y\": [15, 19, 23, 27, 31, 35], \"type\": \"scatter\", \"uid\": \"d8fa13e0-c9d4-11e8-968e-0242ac110004\"}, {\"mode\": \"lines\", \"name\": \"f' (x) = 4.0\", \"text\": [], \"x\": [1.0, 2, 3.0], \"y\": [19.0, 23, 27.0], \"type\": \"scatter\", \"uid\": \"d8fa164c-c9d4-11e8-968e-0242ac110004\"}, {\"mode\": \"lines\", \"name\": \"delta f = 1\", \"text\": [], \"x\": [3, 3], \"y\": [23, 27], \"type\": \"scatter\", \"uid\": \"d8fa17b4-c9d4-11e8-968e-0242ac110004\"}, {\"mode\": \"lines\", \"name\": \"delta x = 1\", \"text\": [], \"x\": [2, 3], \"y\": [23, 23], \"type\": \"scatter\", \"uid\": \"d8fa18f4-c9d4-11e8-968e-0242ac110004\"}], {}, {\"showLink\": true, \"linkText\": \"Export to plot.ly\"})});</script>"
      ]
     },
     "metadata": {},
     "output_type": "display_data"
    }
   ],
   "source": [
    "delta_x = 1\n",
    "\n",
    "# derivative_traces(list_of_terms, x_value, line_length = 4, delta_x = .01)\n",
    "\n",
    "three_x_plus_tangents = delta_traces(four_x_plus_fifteen, 2, line_length= 2, delta_x = delta_x)\n",
    "\n",
    "# only plot the list of traces, if three_x_plus_tangents, does not look like [None, None, None]\n",
    "if list(filter(None.__ne__, three_x_plus_tangents)):\n",
    "    plot([four_x_plus_fifteen_trace, *three_x_plus_tangents])"
   ]
  },
  {
   "cell_type": "markdown",
   "metadata": {},
   "source": [
    "So that function highlights the rate of change is moving at precisely the point x = 2.  Sometimes it is useful to see how the derivative is changing across all x values.  With linear functions we know that our function is always changing by the same rate, and therefore the rate of change is constant.  Let's write functions that allow us to see the function, and the derivative side by side."
   ]
  },
  {
   "cell_type": "code",
   "execution_count": 106,
   "metadata": {},
   "outputs": [
    {
     "name": "stdout",
     "output_type": "stream",
     "text": [
      "This is the format of your plot grid:\n",
      "[ (1,1) x1,y1 ]  [ (1,2) x2,y2 ]\n",
      "\n"
     ]
    },
    {
     "data": {
      "application/vnd.plotly.v1+json": {
       "data": [
        {
         "mode": "lines",
         "name": "data",
         "text": [],
         "type": "scatter",
         "uid": "04f6055e-c9d4-11e8-968e-0242ac110004",
         "x": [
          0,
          1,
          2,
          3,
          4,
          5,
          6
         ],
         "xaxis": "x",
         "y": [
          15,
          19,
          23,
          27,
          31,
          35,
          39
         ],
         "yaxis": "y"
        },
        {
         "mode": "lines",
         "name": "data",
         "text": [],
         "type": "scatter",
         "uid": "04f6944c-c9d4-11e8-968e-0242ac110004",
         "x": [
          0,
          1,
          2,
          3,
          4,
          5,
          6
         ],
         "xaxis": "x2",
         "y": [
          4,
          4,
          4,
          4,
          4,
          4,
          4
         ],
         "yaxis": "y2"
        }
       ],
       "layout": {
        "xaxis": {
         "anchor": "y",
         "domain": [
          0,
          0.45
         ]
        },
        "xaxis2": {
         "anchor": "y2",
         "domain": [
          0.55,
          1
         ]
        },
        "yaxis": {
         "anchor": "x",
         "domain": [
          0,
          1
         ]
        },
        "yaxis2": {
         "anchor": "x2",
         "domain": [
          0,
          1
         ]
        }
       }
      },
      "text/html": [
       "<div id=\"6ccb06eb-0206-4afa-94f2-e1ee6fe22360\" style=\"height: 525px; width: 100%;\" class=\"plotly-graph-div\"></div><script type=\"text/javascript\">require([\"plotly\"], function(Plotly) { window.PLOTLYENV=window.PLOTLYENV || {};window.PLOTLYENV.BASE_URL=\"https://plot.ly\";Plotly.newPlot(\"6ccb06eb-0206-4afa-94f2-e1ee6fe22360\", [{\"mode\": \"lines\", \"name\": \"data\", \"text\": [], \"x\": [0, 1, 2, 3, 4, 5, 6], \"y\": [15, 19, 23, 27, 31, 35, 39], \"type\": \"scatter\", \"uid\": \"04f6055e-c9d4-11e8-968e-0242ac110004\", \"xaxis\": \"x\", \"yaxis\": \"y\"}, {\"mode\": \"lines\", \"name\": \"data\", \"text\": [], \"x\": [0, 1, 2, 3, 4, 5, 6], \"y\": [4.0, 4.0, 4.0, 4.0, 4.0, 4.0, 4.0], \"type\": \"scatter\", \"uid\": \"04f6944c-c9d4-11e8-968e-0242ac110004\", \"xaxis\": \"x2\", \"yaxis\": \"y2\"}], {\"xaxis\": {\"anchor\": \"y\", \"domain\": [0.0, 0.45]}, \"yaxis\": {\"anchor\": \"x\", \"domain\": [0.0, 1.0]}, \"xaxis2\": {\"anchor\": \"y2\", \"domain\": [0.55, 1.0]}, \"yaxis2\": {\"anchor\": \"x2\", \"domain\": [0.0, 1.0]}}, {\"showLink\": true, \"linkText\": \"Export to plot.ly\"})});</script>"
      ],
      "text/vnd.plotly.v1+html": [
       "<div id=\"6ccb06eb-0206-4afa-94f2-e1ee6fe22360\" style=\"height: 525px; width: 100%;\" class=\"plotly-graph-div\"></div><script type=\"text/javascript\">require([\"plotly\"], function(Plotly) { window.PLOTLYENV=window.PLOTLYENV || {};window.PLOTLYENV.BASE_URL=\"https://plot.ly\";Plotly.newPlot(\"6ccb06eb-0206-4afa-94f2-e1ee6fe22360\", [{\"mode\": \"lines\", \"name\": \"data\", \"text\": [], \"x\": [0, 1, 2, 3, 4, 5, 6], \"y\": [15, 19, 23, 27, 31, 35, 39], \"type\": \"scatter\", \"uid\": \"04f6055e-c9d4-11e8-968e-0242ac110004\", \"xaxis\": \"x\", \"yaxis\": \"y\"}, {\"mode\": \"lines\", \"name\": \"data\", \"text\": [], \"x\": [0, 1, 2, 3, 4, 5, 6], \"y\": [4.0, 4.0, 4.0, 4.0, 4.0, 4.0, 4.0], \"type\": \"scatter\", \"uid\": \"04f6944c-c9d4-11e8-968e-0242ac110004\", \"xaxis\": \"x2\", \"yaxis\": \"y2\"}], {\"xaxis\": {\"anchor\": \"y\", \"domain\": [0.0, 0.45]}, \"yaxis\": {\"anchor\": \"x\", \"domain\": [0.0, 1.0]}, \"xaxis2\": {\"anchor\": \"y2\", \"domain\": [0.55, 1.0]}, \"yaxis2\": {\"anchor\": \"x2\", \"domain\": [0.0, 1.0]}}, {\"showLink\": true, \"linkText\": \"Export to plot.ly\"})});</script>"
      ]
     },
     "metadata": {},
     "output_type": "display_data"
    }
   ],
   "source": [
    "from graph import make_subplots, trace_values, plot_figure\n",
    "\n",
    "def function_values_trace(list_of_terms, x_values):\n",
    "    function_values = list(map(lambda x: output_at(list_of_terms, x),x_values))\n",
    "    return trace_values(x_values, function_values, mode = 'lines')\n",
    "    \n",
    "def derivative_values_trace(list_of_terms, x_values, delta_x):\n",
    "    derivative_values = list(map(lambda x: derivative_of(list_of_terms, x, delta_x), x_values))\n",
    "    return trace_values(x_values, derivative_values, mode = 'lines')\n",
    "\n",
    "def function_and_derivative_trace(list_of_terms, x_values, delta_x):\n",
    "    traced_function = function_values_trace(list_of_terms, x_values)\n",
    "    traced_derivative = derivative_values_trace(list_of_terms, x_values, delta_x)\n",
    "    return make_subplots([traced_function], [traced_derivative])\n",
    "\n",
    "four_x_plus_fifteen_function_and_derivative = function_and_derivative_trace(four_x_plus_fifteen, list(range(0, 7)), 1)\n",
    "\n",
    "plot_figure(four_x_plus_fifteen_function_and_derivative)"
   ]
  },
  {
   "cell_type": "markdown",
   "metadata": {},
   "source": [
    "### Summary"
   ]
  },
  {
   "cell_type": "markdown",
   "metadata": {},
   "source": [
    "In this section, we coded out our function for calculating and plotting the derivative.  We started with seeing how we can represent different types of functions.  Then we moved onto writing the `output_at` function which evaluates a provided function at a value of x.  We calculated `delta_f` by subtracting the output at initial x value from the output at that initial x plus delta x.  After calculating `delta_f`, we moved onto our `derivative_at` function, which simply divided `delta_f` from `delta_x`.  \n",
    "\n",
    "In the final section, we introduced some new functions, `delta_f_trace` and `delta_x_trace` that plot our deltas on the graph.  Then we introduced the `derivative_trace` function that shows the rate of change, or slope, for the function between initial x and initial x plus delta x."
   ]
  },
  {
   "cell_type": "code",
   "execution_count": null,
   "metadata": {},
   "outputs": [
    {
     "name": "stdout",
     "output_type": "stream",
     "text": [
      "\n",
      "Welcome to Python 3.6's help utility!\n",
      "\n",
      "If this is your first time using Python, you should definitely check out\n",
      "the tutorial on the Internet at http://docs.python.org/3.6/tutorial/.\n",
      "\n",
      "Enter the name of any module, keyword, or topic to get help on writing\n",
      "Python programs and using Python modules.  To quit this help utility and\n",
      "return to the interpreter, just type \"quit\".\n",
      "\n",
      "To get a list of available modules, keywords, symbols, or topics, type\n",
      "\"modules\", \"keywords\", \"symbols\", or \"topics\".  Each module also comes\n",
      "with a one-line summary of what it does; to list the modules whose name\n",
      "or summary contain a given string such as \"spam\", type \"modules spam\".\n",
      "\n",
      "help> functions\n",
      "No Python documentation found for 'functions'.\n",
      "Use help() to get the interactive help utility.\n",
      "Use help(str) for help on the str class.\n",
      "\n",
      "help> help(functions)\n",
      "No Python documentation found for 'help(functions)'.\n",
      "Use help() to get the interactive help utility.\n",
      "Use help(str) for help on the str class.\n",
      "\n",
      "help> help(str)\n",
      "No Python documentation found for 'help(str)'.\n",
      "Use help() to get the interactive help utility.\n",
      "Use help(str) for help on the str class.\n",
      "\n",
      "help> \"symbols\"\n",
      "\n",
      "Here is a list of the punctuation symbols which Python assigns special meaning\n",
      "to. Enter any symbol to get more help.\n",
      "\n",
      "!=                  *=                  <<                  ^\n",
      "\"                   +                   <<=                 ^=\n",
      "\"\"\"                 +=                  <=                  _\n",
      "%                   ,                   <>                  __\n",
      "%=                  -                   ==                  `\n",
      "&                   -=                  >                   b\"\n",
      "&=                  .                   >=                  b'\n",
      "'                   ...                 >>                  j\n",
      "'''                 /                   >>=                 r\"\n",
      "(                   //                  @                   r'\n",
      ")                   //=                 J                   |\n",
      "*                   /=                  [                   |=\n",
      "**                  :                   \\                   ~\n",
      "**=                 <                   ]                   \n",
      "\n",
      "help> !=\n",
      "Operator precedence\n",
      "*******************\n",
      "\n",
      "The following table summarizes the operator precedence in Python, from\n",
      "lowest precedence (least binding) to highest precedence (most\n",
      "binding).  Operators in the same box have the same precedence.  Unless\n",
      "the syntax is explicitly given, operators are binary.  Operators in\n",
      "the same box group left to right (except for exponentiation, which\n",
      "groups from right to left).\n",
      "\n",
      "Note that comparisons, membership tests, and identity tests, all have\n",
      "the same precedence and have a left-to-right chaining feature as\n",
      "described in the Comparisons section.\n",
      "\n",
      "+-------------------------------------------------+---------------------------------------+\n",
      "| Operator                                        | Description                           |\n",
      "+=================================================+=======================================+\n",
      "| \"lambda\"                                        | Lambda expression                     |\n",
      "+-------------------------------------------------+---------------------------------------+\n",
      "| \"if\" -- \"else\"                                  | Conditional expression                |\n",
      "+-------------------------------------------------+---------------------------------------+\n",
      "| \"or\"                                            | Boolean OR                            |\n",
      "+-------------------------------------------------+---------------------------------------+\n",
      "| \"and\"                                           | Boolean AND                           |\n",
      "+-------------------------------------------------+---------------------------------------+\n",
      "| \"not\" \"x\"                                       | Boolean NOT                           |\n",
      "+-------------------------------------------------+---------------------------------------+\n",
      "| \"in\", \"not in\", \"is\", \"is not\", \"<\", \"<=\", \">\", | Comparisons, including membership     |\n",
      "| \">=\", \"!=\", \"==\"                                | tests and identity tests              |\n",
      "+-------------------------------------------------+---------------------------------------+\n",
      "| \"|\"                                             | Bitwise OR                            |\n",
      "+-------------------------------------------------+---------------------------------------+\n",
      "| \"^\"                                             | Bitwise XOR                           |\n",
      "+-------------------------------------------------+---------------------------------------+\n",
      "| \"&\"                                             | Bitwise AND                           |\n",
      "+-------------------------------------------------+---------------------------------------+\n",
      "| \"<<\", \">>\"                                      | Shifts                                |\n",
      "+-------------------------------------------------+---------------------------------------+\n",
      "| \"+\", \"-\"                                        | Addition and subtraction              |\n",
      "+-------------------------------------------------+---------------------------------------+\n",
      "| \"*\", \"@\", \"/\", \"//\", \"%\"                        | Multiplication, matrix                |\n",
      "|                                                 | multiplication, division, floor       |\n",
      "|                                                 | division, remainder [5]               |\n",
      "+-------------------------------------------------+---------------------------------------+\n",
      "| \"+x\", \"-x\", \"~x\"                                | Positive, negative, bitwise NOT       |\n",
      "+-------------------------------------------------+---------------------------------------+\n",
      "| \"**\"                                            | Exponentiation [6]                    |\n",
      "+-------------------------------------------------+---------------------------------------+\n",
      "| \"await\" \"x\"                                     | Await expression                      |\n",
      "+-------------------------------------------------+---------------------------------------+\n",
      "| \"x[index]\", \"x[index:index]\",                   | Subscription, slicing, call,          |\n",
      "| \"x(arguments...)\", \"x.attribute\"                | attribute reference                   |\n",
      "+-------------------------------------------------+---------------------------------------+\n",
      "| \"(expressions...)\", \"[expressions...]\", \"{key:  | Binding or tuple display, list        |\n",
      "| value...}\", \"{expressions...}\"                  | display, dictionary display, set      |\n",
      "|                                                 | display                               |\n",
      "+-------------------------------------------------+---------------------------------------+\n",
      "\n",
      "-[ Footnotes ]-\n",
      "\n",
      "[1] While \"abs(x%y) < abs(y)\" is true mathematically, for floats\n",
      "    it may not be true numerically due to roundoff.  For example, and\n",
      "    assuming a platform on which a Python float is an IEEE 754 double-\n",
      "    precision number, in order that \"-1e-100 % 1e100\" have the same\n",
      "    sign as \"1e100\", the computed result is \"-1e-100 + 1e100\", which\n",
      "    is numerically exactly equal to \"1e100\".  The function\n",
      "    \"math.fmod()\" returns a result whose sign matches the sign of the\n",
      "    first argument instead, and so returns \"-1e-100\" in this case.\n",
      "    Which approach is more appropriate depends on the application.\n",
      "\n",
      "[2] If x is very close to an exact integer multiple of y, it's\n",
      "    possible for \"x//y\" to be one larger than \"(x-x%y)//y\" due to\n",
      "    rounding.  In such cases, Python returns the latter result, in\n",
      "    order to preserve that \"divmod(x,y)[0] * y + x % y\" be very close\n",
      "    to \"x\".\n",
      "\n",
      "[3] The Unicode standard distinguishes between *code points* (e.g.\n",
      "    U+0041) and *abstract characters* (e.g. \"LATIN CAPITAL LETTER A\").\n",
      "    While most abstract characters in Unicode are only represented\n",
      "    using one code point, there is a number of abstract characters\n",
      "    that can in addition be represented using a sequence of more than\n",
      "    one code point.  For example, the abstract character \"LATIN\n",
      "    CAPITAL LETTER C WITH CEDILLA\" can be represented as a single\n",
      "    *precomposed character* at code position U+00C7, or as a sequence\n",
      "    of a *base character* at code position U+0043 (LATIN CAPITAL\n",
      "    LETTER C), followed by a *combining character* at code position\n",
      "    U+0327 (COMBINING CEDILLA).\n",
      "\n",
      "    The comparison operators on strings compare at the level of\n",
      "    Unicode code points. This may be counter-intuitive to humans.  For\n",
      "    example, \"\"\\u00C7\" == \"\\u0043\\u0327\"\" is \"False\", even though both\n",
      "    strings represent the same abstract character \"LATIN CAPITAL\n",
      "    LETTER C WITH CEDILLA\".\n",
      "\n",
      "    To compare strings at the level of abstract characters (that is,\n",
      "    in a way intuitive to humans), use \"unicodedata.normalize()\".\n",
      "\n",
      "[4] Due to automatic garbage-collection, free lists, and the\n",
      "    dynamic nature of descriptors, you may notice seemingly unusual\n",
      "    behaviour in certain uses of the \"is\" operator, like those\n",
      "    involving comparisons between instance methods, or constants.\n",
      "    Check their documentation for more info.\n",
      "\n",
      "[5] The \"%\" operator is also used for string formatting; the same\n",
      "    precedence applies.\n",
      "\n",
      "[6] The power operator \"**\" binds less tightly than an arithmetic\n",
      "    or bitwise unary operator on its right, that is, \"2**-1\" is \"0.5\".\n",
      "\n",
      "Related help topics: lambda, or, and, not, in, is, BOOLEAN, COMPARISON,BITWISE, SHIFTING, BINARY, FORMATTING, POWER, UNARY, ATTRIBUTES,SUBSCRIPTS, SLICINGS, CALLS, TUPLES, LISTS, DICTIONARIES, COMPARISON\n",
      "\n"
     ]
    }
   ],
   "source": [
    "help()"
   ]
  },
  {
   "cell_type": "code",
   "execution_count": null,
   "metadata": {},
   "outputs": [],
   "source": [
    "import pandas\n",
    "file_name = './cities.xlsx'\n",
    "travel_df = pandas.read_excel(file_name)\n",
    "cities = travel_df.to_dict('records')"
   ]
  },
  {
   "cell_type": "code",
   "execution_count": null,
   "metadata": {},
   "outputs": [],
   "source": []
  }
 ],
 "metadata": {
  "kernelspec": {
   "display_name": "Python 3",
   "language": "python",
   "name": "python3"
  },
  "language_info": {
   "codemirror_mode": {
    "name": "ipython",
    "version": 3
   },
   "file_extension": ".py",
   "mimetype": "text/x-python",
   "name": "python",
   "nbconvert_exporter": "python",
   "pygments_lexer": "ipython3",
   "version": "3.6.4"
  }
 },
 "nbformat": 4,
 "nbformat_minor": 2
}
